{
 "cells": [
  {
   "cell_type": "markdown",
   "metadata": {},
   "source": [
    "# LLM Project: 💬 AI 问答聊天工具\n",
    "## AI Agent 意图识别技术对比\n",
    "## 从关键词匹配到LLM智能分析\n",
    "\n",
    "### 课程目标\n",
    "- 理解传统关键词匹配的局限性\n",
    "- 掌握LLM意图识别的优势\n",
    "- 通过实际案例对比两种方法的效果\n",
    "- 学习如何优化Prompt提升识别准确率"
   ]
  },
  {
   "cell_type": "markdown",
   "metadata": {},
   "source": [
    "## 1. 项目架构概览\n",
    "\n",
    "我们的AI语音聊天机器人包含以下核心组件：\n",
    "\n",
    "```\n",
    "语音输入 → Whisper转文字 → 意图识别 → 知识库匹配 → 智能回答\n",
    "```\n",
    "\n",
    "### 技术栈\n",
    "- **语音识别**: OpenAI Whisper + Google Speech Recognition\n",
    "- **意图识别**: 关键词匹配 vs GPT-4o mini\n",
    "- **后端框架**: Flask\n",
    "- **前端界面**: HTML5 + JavaScript\n",
    "- **知识库**: JSON格式存储"
   ]
  },
  {
   "cell_type": "markdown",
   "metadata": {},
   "source": [
    "## 2. 传统方法：关键词匹配\n",
    "\n",
    "### 实现原理\n",
    "```python\n",
    "def detect_intent(text):\n",
    "    text = text.lower()\n",
    "    \n",
    "    # 定义关键词映射\n",
    "    intent_keywords = {\n",
    "        'weather': ['天气', '温度', '下雨', '晴天', '阴天', '雪'],\n",
    "        'time': ['时间', '几点', '现在', '钟点'],\n",
    "        'greeting': ['你好', '您好', 'hi', 'hello', '早上好'],\n",
    "        'music': ['音乐', '歌曲', '播放', '听歌'],\n",
    "        'news': ['新闻', '消息', '资讯', '头条'],\n",
    "        'food': ['吃', '美食', '菜', '饭', '餐厅', '推荐'],\n",
    "        'travel': ['旅游', '景点', '旅行', '去哪', '玩']\n",
    "    }\n",
    "    \n",
    "    # 简单匹配第一个找到的关键词\n",
    "    for intent, keywords in intent_keywords.items():\n",
    "        for keyword in keywords:\n",
    "            if keyword in text:\n",
    "                return intent\n",
    "    \n",
    "    return 'unknown'\n",
    "```"
   ]
  },
  {
   "cell_type": "markdown",
   "metadata": {},
   "source": [
    "### 关键词匹配的优缺点\n",
    "\n",
    "#### ✅ 优点\n",
    "- **速度快**: 毫秒级响应\n",
    "- **成本低**: 无需调用外部API\n",
    "- **可控性强**: 规则明确，结果可预测\n",
    "- **离线运行**: 不依赖网络连接\n",
    "\n",
    "#### ❌ 缺点\n",
    "- **理解能力有限**: 无法处理复杂语义\n",
    "- **维护成本高**: 需要手动添加关键词\n",
    "- **误判率高**: 容易被无关关键词干扰\n",
    "- **缺乏上下文**: 无法理解句子整体含义"
   ]
  },
  {
   "cell_type": "markdown",
   "metadata": {},
   "source": [
    "## 3. 现代方法：LLM意图识别\n",
    "\n",
    "### 实现架构\n",
    "```python\n",
    "def detect_intent_LLM(text):\n",
    "    try:\n",
    "        # 定义意图类别\n",
    "        intent_categories = [\n",
    "            'weather', 'time', 'greeting', 'music', \n",
    "            'news', 'food', 'travel', 'unknown'\n",
    "        ]\n",
    "        \n",
    "        # 构建智能提示词\n",
    "        prompt = f\"\"\"\n",
    "        你是一个意图识别专家。请分析用户的输入文本，\n",
    "        并从以下类别中选择**最符合用户当前主要目的**的一个意图类别：\n",
    "        \n",
    "        注意：\n",
    "        - 如果句子包含多个主题，请判断用户**最有可能希望得到回答的部分**\n",
    "        - 忽略天气/音乐等背景叙述，专注于可能触发动作的问题\n",
    "        \n",
    "        用户输入：\"{text}\"\n",
    "        \"\"\"\n",
    "        \n",
    "        # 调用GPT-4o mini\n",
    "        response = openai.chat.completions.create(\n",
    "            model=\"gpt-4o-mini\",\n",
    "            messages=[{\"role\": \"user\", \"content\": prompt}],\n",
    "            max_tokens=50,\n",
    "            temperature=0.1\n",
    "        )\n",
    "        \n",
    "        return response.choices[0].message.content.strip().lower()\n",
    "        \n",
    "    except Exception as e:\n",
    "        # 降级到关键词匹配\n",
    "        return detect_intent(text)\n",
    "```"
   ]
  },
  {
   "cell_type": "markdown",
   "metadata": {},
   "source": [
    "### LLM方法的优缺点\n",
    "\n",
    "#### ✅ 优点\n",
    "- **语义理解**: 能理解复杂句子的真实意图\n",
    "- **上下文感知**: 考虑整个句子的语境\n",
    "- **自适应**: 无需手动维护关键词库\n",
    "- **准确率高**: 特别是处理歧义和复杂表达\n",
    "\n",
    "#### ❌ 缺点\n",
    "- **响应延迟**: 需要调用API，通常100-500ms\n",
    "- **成本考虑**: 每次调用都有费用\n",
    "- **网络依赖**: 需要稳定的网络连接\n",
    "- **结果不确定**: 可能出现意外的输出"
   ]
  },
  {
   "cell_type": "markdown",
   "metadata": {},
   "source": [
    "## 4. 实战对比：测试案例分析\n",
    "\n",
    "让我们通过具体例子来看两种方法的差异："
   ]
  },
  {
   "cell_type": "code",
   "execution_count": 1,
   "metadata": {},
   "outputs": [
    {
     "name": "stdout",
     "output_type": "stream",
     "text": [
      "输入: 今天天气怎么样？\n",
      "关键词匹配结果: weather (匹配到'天气')\n",
      "LLM识别结果: weather\n",
      "结论: 两种方法结果一致 ✅\n",
      "\n"
     ]
    }
   ],
   "source": [
    "# 测试案例1：简单直接的询问\n",
    "test_case_1 = \"今天天气怎么样？\"\n",
    "\n",
    "print(f\"输入: {test_case_1}\")\n",
    "print(f\"关键词匹配结果: weather (匹配到'天气')\")\n",
    "print(f\"LLM识别结果: weather\")\n",
    "print(f\"结论: 两种方法结果一致 ✅\\n\")"
   ]
  },
  {
   "cell_type": "code",
   "execution_count": 2,
   "metadata": {},
   "outputs": [
    {
     "name": "stdout",
     "output_type": "stream",
     "text": [
      "输入: 外面下雨了，不知道中午吃什么好\n",
      "关键词匹配结果: weather (首先匹配到'下雨')\n",
      "LLM识别结果: food (理解用户真正关心的是吃什么)\n",
      "结论: LLM更准确理解用户真实需求 🎯\n",
      "\n"
     ]
    }
   ],
   "source": [
    "# 测试案例2：复杂语境下的意图\n",
    "test_case_2 = \"外面下雨了，不知道中午吃什么好\"\n",
    "\n",
    "print(f\"输入: {test_case_2}\")\n",
    "print(f\"关键词匹配结果: weather (首先匹配到'下雨')\")\n",
    "print(f\"LLM识别结果: food (理解用户真正关心的是吃什么)\")\n",
    "print(f\"结论: LLM更准确理解用户真实需求 🎯\\n\")"
   ]
  },
  {
   "cell_type": "code",
   "execution_count": 3,
   "metadata": {},
   "outputs": [
    {
     "name": "stdout",
     "output_type": "stream",
     "text": [
      "输入: 肚子饿了，有什么推荐的吗？\n",
      "关键词匹配结果: unknown (没有直接的食物关键词)\n",
      "LLM识别结果: food (理解'肚子饿'暗示需要食物推荐)\n",
      "结论: LLM能识别隐含的意图表达 🧠\n",
      "\n"
     ]
    }
   ],
   "source": [
    "# 测试案例3：隐含意图\n",
    "test_case_3 = \"肚子饿了，有什么推荐的吗？\"\n",
    "\n",
    "print(f\"输入: {test_case_3}\")\n",
    "print(f\"关键词匹配结果: unknown (没有直接的食物关键词)\")\n",
    "print(f\"LLM识别结果: food (理解'肚子饿'暗示需要食物推荐)\")\n",
    "print(f\"结论: LLM能识别隐含的意图表达 🧠\\n\")"
   ]
  },
  {
   "cell_type": "code",
   "execution_count": 4,
   "metadata": {},
   "outputs": [
    {
     "name": "stdout",
     "output_type": "stream",
     "text": [
      "输入: 你好，请问现在几点了？顺便告诉我今天天气如何\n",
      "关键词匹配结果: greeting (首先匹配到'你好')\n",
      "LLM识别结果: time (识别出用户最关心的是时间)\n",
      "结论: LLM能识别主要意图，避免被次要信息干扰 🎯\n"
     ]
    }
   ],
   "source": [
    "# 测试案例4：多意图混合\n",
    "test_case_4 = \"你好，请问现在几点了？顺便告诉我今天天气如何\"\n",
    "\n",
    "print(f\"输入: {test_case_4}\")\n",
    "print(f\"关键词匹配结果: greeting (首先匹配到'你好')\")\n",
    "print(f\"LLM识别结果: time (识别出用户最关心的是时间)\")\n",
    "print(f\"结论: LLM能识别主要意图，避免被次要信息干扰 🎯\")"
   ]
  },
  {
   "cell_type": "markdown",
   "metadata": {},
   "source": [
    "## 5. Prompt工程的重要性\n",
    "\n",
    "### 原始Prompt vs 优化Prompt\n",
    "\n",
    "#### 原始版本（注释掉的代码）\n",
    "```\n",
    "你是一个意图识别专家。请分析用户的输入文本，\n",
    "并从以下类别中选择最合适的意图：\n",
    "\n",
    "请只返回一个意图类别名称，不要包含其他解释。\n",
    "```\n",
    "\n",
    "#### 优化版本（当前使用）\n",
    "```\n",
    "你是一个意图识别专家。请分析用户的输入文本，\n",
    "并从以下类别中选择**最符合用户当前主要目的**的一个意图类别：\n",
    "\n",
    "注意：\n",
    "- 如果句子包含多个主题，请判断用户**最有可能希望得到回答的部分**\n",
    "- 忽略天气/音乐等背景叙述，专注于可能触发动作的问题\n",
    "\n",
    "请只返回最相关的一个意图类别名称，例如：\"food\"\n",
    "```"
   ]
  },
  {
   "cell_type": "markdown",
   "metadata": {},
   "source": [
    "### Prompt优化的关键要素\n",
    "\n",
    "1. **明确角色定位**: \"你是一个意图识别专家\"\n",
    "2. **强调重点**: 使用**粗体**突出关键指令\n",
    "3. **提供具体指导**: 告诉AI如何处理复杂情况\n",
    "4. **给出示例**: 提供期望的输出格式\n",
    "5. **设置约束**: 限制输出内容和格式\n",
    "\n",
    "### 参数调优\n",
    "- **temperature=0.1**: 降低随机性，提高一致性\n",
    "- **max_tokens=50**: 限制输出长度\n",
    "- **model=\"gpt-4o-mini\"**: 平衡性能和成本"
   ]
  },
  {
   "cell_type": "markdown",
   "metadata": {},
   "source": [
    "## 6. 生产环境最佳实践\n",
    "\n",
    "### 混合策略\n",
    "```python\n",
    "def hybrid_intent_detection(text):\n",
    "    # 1. 首先尝试LLM识别\n",
    "    try:\n",
    "        llm_result = detect_intent_LLM(text)\n",
    "        if llm_result != 'unknown':\n",
    "            return llm_result\n",
    "    except Exception:\n",
    "        pass\n",
    "    \n",
    "    # 2. 降级到关键词匹配\n",
    "    return detect_intent(text)\n",
    "```\n",
    "\n",
    "### 性能优化策略\n",
    "- **缓存机制**: 相同输入直接返回缓存结果\n",
    "- **批量处理**: 多个请求合并发送\n",
    "- **异步调用**: 避免阻塞主线程\n",
    "- **降级机制**: API失败时自动切换到关键词匹配"
   ]
  },
  {
   "cell_type": "markdown",
   "metadata": {},
   "source": [
    "## 7. 成本效益分析\n",
    "\n",
    "| 维度 | 关键词匹配 | LLM识别 |\n",
    "|------|------------|---------|\n",
    "| 准确率 | 70-80% | 85-95% |\n",
    "| 响应时间 | <1ms | 100-500ms |\n",
    "| 单次成本 | $0 | $0.0001-0.001 |\n",
    "| 维护成本 | 高 | 低 |\n",
    "| 扩展性 | 差 | 优秀 |\n",
    "| 可解释性 | 强 | 弱 |\n",
    "\n",
    "### 选择建议\n",
    "- **高频简单场景**: 关键词匹配\n",
    "- **复杂语义理解**: LLM识别\n",
    "- **生产环境**: 混合策略\n",
    "- **成本敏感**: 关键词匹配 + 少量LLM"
   ]
  },
  {
   "cell_type": "markdown",
   "metadata": {},
   "source": [
    "## 8. 实际演示\n",
    "\n",
    "### 启动项目\n",
    "```bash\n",
    "# 1. 安装依赖\n",
    "pip install -r requirements.txt\n",
    "\n",
    "# 2. 配置环境变量\n",
    "# 在.env文件中设置OPENAI_API_KEY\n",
    "\n",
    "# 3. 启动服务\n",
    "python run.py --debug\n",
    "```\n",
    "\n",
    "### 测试流程\n",
    "1. 打开浏览器访问 http://localhost:5000\n",
    "2. 上传测试音频文件\n",
    "3. 观察两种方法的识别结果\n",
    "4. 对比准确率和响应时间\n",
    "\n",
    "### 可以测试的语音内容\n",
    "- \"今天天气怎么样？\" (简单直接)\n",
    "- \"外面下雨了，不知道吃什么好\" (复杂语境)\n",
    "- \"肚子饿了，有推荐吗？\" (隐含意图)\n",
    "- \"你好，现在几点了？\" (多意图混合)"
   ]
  },
  {
   "cell_type": "markdown",
   "metadata": {},
   "source": [
    "## 9. 课程总结\n",
    "\n",
    "### 关键收获\n",
    "1. **技术演进**: 从规则匹配到智能理解\n",
    "2. **Prompt工程**: 决定LLM效果的关键因素\n",
    "3. **混合策略**: 平衡准确率、成本和性能\n",
    "4. **实践导向**: 根据具体场景选择合适方案\n",
    "\n",
    "### 下一步学习方向\n",
    "- **微调模型**: 针对特定领域训练专用模型\n",
    "- **多轮对话**: 上下文感知的意图识别\n",
    "- **实时优化**: 基于用户反馈持续改进\n",
    "- **多模态融合**: 结合语音、文本、图像的综合理解\n",
    "\n",
    "### 思考题\n",
    "1. 在什么情况下关键词匹配可能比LLM更合适？\n",
    "2. 如何设计一个自适应的意图识别系统？\n",
    "3. 如何评估和持续优化意图识别的准确率？"
   ]
  }
 ],
 "metadata": {
  "kernelspec": {
   "display_name": "base",
   "language": "python",
   "name": "python3"
  },
  "language_info": {
   "codemirror_mode": {
    "name": "ipython",
    "version": 3
   },
   "file_extension": ".py",
   "mimetype": "text/x-python",
   "name": "python",
   "nbconvert_exporter": "python",
   "pygments_lexer": "ipython3",
   "version": "3.11.11"
  }
 },
 "nbformat": 4,
 "nbformat_minor": 4
}
